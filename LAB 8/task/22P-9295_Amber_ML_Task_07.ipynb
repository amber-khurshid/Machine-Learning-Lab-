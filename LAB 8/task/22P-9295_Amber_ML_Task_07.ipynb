{
 "cells": [
  {
   "cell_type": "markdown",
   "metadata": {},
   "source": [
    "Implement Gradient Descent \n"
   ]
  },
  {
   "cell_type": "code",
   "execution_count": 7,
   "metadata": {},
   "outputs": [],
   "source": [
    "def compute_cost(x, y, w, b):\n",
    "\n",
    "    m = x.shape[0]\n",
    "    cost_sum = 0\n",
    "    for i in range(m):\n",
    "        f_wb = w * x[i] + b\n",
    "        cost = (f_wb - y[i]) ** 2\n",
    "        cost_sum = cost_sum + cost\n",
    "    total_cost = (1 / (2 * m)) * cost_sum\n",
    "    return total_cost"
   ]
  },
  {
   "cell_type": "code",
   "execution_count": 8,
   "metadata": {},
   "outputs": [
    {
     "name": "stdout",
     "output_type": "stream",
     "text": [
      "[ 55 105 155 205 255]\n",
      "Cost before update:  13404.5\n",
      "Cost after update:  454.41000000000133\n",
      "Updated w:  -4.300000000000011\n",
      "Updated b:  -9.900000000000002\n"
     ]
    }
   ],
   "source": [
    "import numpy as np\n",
    "# first iteration \n",
    "# numpy array containing input features\n",
    "x = np.array([1, 2, 3, 4, 5])\n",
    "# numpy array containing target values\n",
    "y = np.array([2, 4, 6, 8, 10])\n",
    "\n",
    "# w is the weight (or slope) that controls how much the feature  x affects the prediction.\n",
    "w = 50\n",
    "\n",
    "\n",
    "# The higher line represents a positive bias shifting the predictions up, while the lower line shows a negative bias shifting the predictions down.\n",
    "b = 5\n",
    "alpha = 0.1\n",
    "\n",
    "# returns the shape of x \n",
    "m = x.shape[0]\n",
    "\n",
    "f_wb = w * x + b\n",
    "print(f_wb)\n",
    "\n",
    "\n",
    "temp_w = w - alpha * (1 / m) * np.sum((f_wb - y) * x)\n",
    "\n",
    "temp_b = b - alpha * (1 / m) * np.sum(f_wb - y)\n",
    "\n",
    "\n",
    "print(\"Cost before update: \", compute_cost(x, y, w, b))\n",
    "\n",
    "print(\"Cost after update: \", compute_cost(x, y, temp_w, temp_b))\n",
    "\n",
    "print(\"Updated w: \", temp_w)\n",
    "\n",
    "print(\"Updated b: \", temp_b)"
   ]
  },
  {
   "cell_type": "code",
   "execution_count": 9,
   "metadata": {},
   "outputs": [
    {
     "name": "stdout",
     "output_type": "stream",
     "text": [
      "Cost after update:  20.10420000000007\n",
      "Cost after update:  5.381316000000002\n",
      "Cost after update:  4.729939919999999\n",
      "Cost after update:  4.555585281599999\n",
      "Cost after update:  4.4023352281919985\n",
      "Final weight (w):  3.9281599999999997\n",
      "Final bias (b):  -6.954551999999999\n",
      "Final cost:  4.4023352281919985\n",
      "Iterations completed:  4\n"
     ]
    }
   ],
   "source": [
    "# Performing gradient descent with many iterations\n",
    "for iteration in range(m):\n",
    "    current_w = temp_w\n",
    "    current_b = temp_b\n",
    "    predictions = current_w * x + current_b\n",
    "\n",
    "    # Updating weights and bias\n",
    "    gradient_w = (1 / m) * np.sum((predictions - y) * x)\n",
    "    gradient_b = (1 / m) * np.sum(predictions - y)\n",
    "    \n",
    "    temp_w = current_w - alpha * gradient_w\n",
    "    temp_b = current_b - alpha * gradient_b\n",
    "\n",
    "    # Displaying cost for current iteration\n",
    "    current_cost = compute_cost(x, y, temp_w, temp_b)\n",
    "    print(\"Cost after update: \", current_cost)\n",
    "\n",
    "    # Early stopping if the cost reaches zero\n",
    "    if current_cost == 0:\n",
    "        break\n",
    "\n",
    "# Displaying final values\n",
    "print(\"Final weight (w): \", temp_w)\n",
    "print(\"Final bias (b): \", temp_b)\n",
    "print(\"Final cost: \", compute_cost(x, y, temp_w, temp_b))\n",
    "print(\"Iterations completed: \", iteration)\n"
   ]
  },
  {
   "cell_type": "code",
   "execution_count": 10,
   "metadata": {},
   "outputs": [
    {
     "name": "stdout",
     "output_type": "stream",
     "text": [
      "Cost after update:  4.2547342650681585\n",
      "Final weight (w):  3.8935495999999996\n",
      "Final bias (b):  -6.837544799999999\n",
      "Final cost:  4.2547342650681585\n",
      "Iterations completed:  0\n",
      "Lowest cost encountered:  4.2547342650681585\n",
      "Best weight (w):  3.8935495999999996\n",
      "Best bias (b):  -6.837544799999999\n"
     ]
    }
   ],
   "source": [
    "import numpy as np\n",
    "\n",
    "# Setting cost threshold and initialize minimum cost\n",
    "cost_limit = 4\n",
    "lowest_cost = float('inf')\n",
    "\n",
    "# Performing iterative gradient descent\n",
    "for iteration in range(m):\n",
    "    current_w = temp_w\n",
    "    current_b = temp_b\n",
    "\n",
    "    # Computing predictions and cost function gradients\n",
    "    predictions = current_w * x + current_b\n",
    "    grad_w = (1 / m) * np.sum((predictions - y) * x)\n",
    "    grad_b = (1 / m) * np.sum(predictions - y)\n",
    "\n",
    "    # Updating weights and bias\n",
    "    temp_w = current_w - alpha * grad_w\n",
    "    temp_b = current_b - alpha * grad_b\n",
    "\n",
    "    # Calculating current cost\n",
    "    cost_now = compute_cost(x, y, temp_w, temp_b)\n",
    "    print(\"Cost after update: \", cost_now)\n",
    "\n",
    "    # Tracking optimal weights if cost improves\n",
    "    if cost_now < lowest_cost:\n",
    "        lowest_cost = cost_now\n",
    "        best_w = temp_w\n",
    "        best_b = temp_b\n",
    "\n",
    "    # Checking for early exit conditions\n",
    "    if cost_now == 0 or cost_now > cost_limit:\n",
    "        break\n",
    "\n",
    "# Displaying results after completion\n",
    "print(\"Final weight (w): \", temp_w)\n",
    "print(\"Final bias (b): \", temp_b)\n",
    "print(\"Final cost: \", compute_cost(x, y, temp_w, temp_b))\n",
    "print(\"Iterations completed: \", iteration)\n",
    "print(\"Lowest cost encountered: \", lowest_cost)\n",
    "print(\"Best weight (w): \", best_w)\n",
    "print(\"Best bias (b): \", best_b)\n"
   ]
  }
 ],
 "metadata": {
  "kernelspec": {
   "display_name": "Python 3",
   "language": "python",
   "name": "python3"
  },
  "language_info": {
   "codemirror_mode": {
    "name": "ipython",
    "version": 3
   },
   "file_extension": ".py",
   "mimetype": "text/x-python",
   "name": "python",
   "nbconvert_exporter": "python",
   "pygments_lexer": "ipython3",
   "version": "3.12.0"
  }
 },
 "nbformat": 4,
 "nbformat_minor": 2
}
